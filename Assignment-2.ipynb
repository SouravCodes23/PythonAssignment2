{
 "cells": [
  {
   "cell_type": "code",
   "execution_count": 5,
   "id": "cbdef397-0e60-45e1-bc72-53f830d78865",
   "metadata": {},
   "outputs": [],
   "source": [
    "## How do you comment code in python ? what are the different type of comments ?  "
   ]
  },
  {
   "cell_type": "code",
   "execution_count": 6,
   "id": "08d9d538-a8f6-479c-88e2-1eff15a3e5d2",
   "metadata": {},
   "outputs": [
    {
     "data": {
      "text/plain": [
       "' In python i write multiline comment in tripple quotes and wirte single line copmments use (#) symbol.\\nthere are the three types of comments \\ni-single line comment.\\nii-Multi line comment.'"
      ]
     },
     "execution_count": 6,
     "metadata": {},
     "output_type": "execute_result"
    }
   ],
   "source": [
    "\"\"\" In python i write multiline comment in tripple quotes and wirte single line copmments use (#) symbol.\n",
    "there are the three types of comments \n",
    "i-single line comment.\n",
    "ii-Multi line comment.\"\"\""
   ]
  },
  {
   "cell_type": "code",
   "execution_count": 7,
   "id": "460b1e6b-d08d-44a8-9fd6-2954d458fabd",
   "metadata": {},
   "outputs": [],
   "source": [
    "### What are variables in Python? How do you declare and assign values to variables?"
   ]
  },
  {
   "cell_type": "code",
   "execution_count": 9,
   "id": "b27fb96f-8908-4801-bcdc-dfc948d01603",
   "metadata": {},
   "outputs": [
    {
     "data": {
      "text/plain": [
       "'the variables in python are \\ni - declaration\\nii - Assignment operator'"
      ]
     },
     "execution_count": 9,
     "metadata": {},
     "output_type": "execute_result"
    }
   ],
   "source": [
    "\"\"\"the variables in python are \n",
    "i - declaration\n",
    "ii - Assignment operator\"\"\""
   ]
  },
  {
   "cell_type": "code",
   "execution_count": 12,
   "id": "d11a698b-3f2a-46d1-857f-046b66b9464f",
   "metadata": {},
   "outputs": [],
   "source": [
    "## Declare and assign values to  variables\n",
    "name = \"sourav\"\n",
    "Age = 19\n",
    "height = 5.12\n"
   ]
  },
  {
   "cell_type": "code",
   "execution_count": 13,
   "id": "4f802692-12da-4e78-b2e8-d3b3e914bd1a",
   "metadata": {},
   "outputs": [],
   "source": [
    "### How do you convert one data type to another in Python?"
   ]
  },
  {
   "cell_type": "code",
   "execution_count": 14,
   "id": "c010dec2-b961-466a-8f98-0137e8ce1ab8",
   "metadata": {},
   "outputs": [
    {
     "data": {
      "text/plain": [
       "' In python you can covert one data type to another data type by using type casting.\\npython provide some in built finctions and methods to converts one data type to another data type.\\ni - type casting\\nii - str()\\niii - bool()\\niv - tuple()\\nv - set()\\nvi - list() '"
      ]
     },
     "execution_count": 14,
     "metadata": {},
     "output_type": "execute_result"
    }
   ],
   "source": [
    "\"\"\" In python you can covert one data type to another data type by using type casting.\n",
    "python provide some in built finctions and methods to converts one data type to another data type.\n",
    "i - type casting\n",
    "ii - str()\n",
    "iii - bool()\n",
    "iv - tuple()\n",
    "v - set()\n",
    "vi - list() \"\"\""
   ]
  },
  {
   "cell_type": "code",
   "execution_count": 1,
   "id": "737938e8-cac9-45be-a8bb-86efe07dbe37",
   "metadata": {},
   "outputs": [],
   "source": [
    "### How do you write and execute a Python script from the command line?"
   ]
  },
  {
   "cell_type": "code",
   "execution_count": null,
   "id": "cdeacaa4-a040-4ef5-ab65-abbcf571faf7",
   "metadata": {},
   "outputs": [],
   "source": [
    "\"\"\" The most basic and easy way to run a Python script is by using the python command.\n",
    "You need to open a command line and type the word python followed by the path to your script file like this: \n",
    "python first_script.py Hello World! Then you hit the ENTER button from the keyboard.\"\"\""
   ]
  },
  {
   "cell_type": "code",
   "execution_count": 2,
   "id": "60ad7e05-b1f8-4390-b274-70a65a005d6a",
   "metadata": {},
   "outputs": [],
   "source": [
    "###  Given a list my_list = [1, 2, 3, 4, 5], write the code to slice the list and obtain the sub-list [2, 3] ."
   ]
  },
  {
   "cell_type": "code",
   "execution_count": 10,
   "id": "efc7b94b-03ae-4d71-9f24-9e999b6bee4d",
   "metadata": {},
   "outputs": [
    {
     "name": "stdout",
     "output_type": "stream",
     "text": [
      "[2, 3]\n"
     ]
    }
   ],
   "source": [
    "my_list = [1, 2, 3, 4, 5]\n",
    "sub_list = my_list[1:3]\n",
    "\n",
    "print(sub_list)"
   ]
  },
  {
   "cell_type": "code",
   "execution_count": 11,
   "id": "5793cf57-173a-4fae-9d03-45de556de79e",
   "metadata": {},
   "outputs": [],
   "source": [
    "### What is a complex number in mathematics, and how is it represented in Python?"
   ]
  },
  {
   "cell_type": "code",
   "execution_count": 14,
   "id": "edb7d3fa-856c-4f9e-bd2e-3729f217076d",
   "metadata": {},
   "outputs": [],
   "source": [
    "\"\"\"In mathematics a complex number is a number that can be expressed in the form of 'a+bi' . where a and b are real numbers and i is a imaginary number. \"\"\" \n",
    "real_part = 3\n",
    "imaginary_part = 4\n",
    "my_complex_number = complex(real_part, imaginary_part)\n",
    "my_complex_number = 3+4j"
   ]
  },
  {
   "cell_type": "code",
   "execution_count": 15,
   "id": "796e1387-e4dc-4850-b0de-65e3ecf0f817",
   "metadata": {},
   "outputs": [],
   "source": [
    "### What is the correct way to declare a variable named age and assign the value 25 to it?"
   ]
  },
  {
   "cell_type": "code",
   "execution_count": 16,
   "id": "04b46d97-c4f4-4449-b975-e4e652c6feaa",
   "metadata": {},
   "outputs": [],
   "source": [
    "age = 25"
   ]
  },
  {
   "cell_type": "code",
   "execution_count": 18,
   "id": "db66104e-8f67-4da6-8e8a-12b884e1c31a",
   "metadata": {},
   "outputs": [],
   "source": [
    "### Declare a variable named price and assign the value 9.99 to it. What data type does this variable belong to ?"
   ]
  },
  {
   "cell_type": "code",
   "execution_count": 19,
   "id": "89bfc7e1-3209-4b04-8bed-3df0081fb290",
   "metadata": {},
   "outputs": [],
   "source": [
    "price = 9.99"
   ]
  },
  {
   "cell_type": "code",
   "execution_count": 20,
   "id": "c75012b4-9166-4fab-9a3b-294d17fd51fb",
   "metadata": {},
   "outputs": [
    {
     "data": {
      "text/plain": [
       "float"
      ]
     },
     "execution_count": 20,
     "metadata": {},
     "output_type": "execute_result"
    }
   ],
   "source": [
    "type(price)"
   ]
  },
  {
   "cell_type": "code",
   "execution_count": 21,
   "id": "d074e3ba-c8eb-41c4-b0ce-94de6f15abed",
   "metadata": {},
   "outputs": [],
   "source": [
    "###  Create a variable named name and assign your full name to it as a string. How would you print the value of this variable"
   ]
  },
  {
   "cell_type": "code",
   "execution_count": 24,
   "id": "be819506-42c3-41bb-b6a3-fb33a8dbb675",
   "metadata": {},
   "outputs": [
    {
     "name": "stdout",
     "output_type": "stream",
     "text": [
      "sourav\n"
     ]
    }
   ],
   "source": [
    "name = \"sourav\"\n",
    "print(name)"
   ]
  },
  {
   "cell_type": "code",
   "execution_count": 25,
   "id": "d28c66d7-50a4-42ec-ad03-48dd9f765e14",
   "metadata": {},
   "outputs": [],
   "source": [
    "### Given the string \"Hello, World!\", extract the substring \"World\"."
   ]
  },
  {
   "cell_type": "code",
   "execution_count": 28,
   "id": "d372c66c-d0a2-409b-9409-f1370acc1fe2",
   "metadata": {},
   "outputs": [
    {
     "name": "stdout",
     "output_type": "stream",
     "text": [
      " world\n"
     ]
    }
   ],
   "source": [
    "original_string = \"Hello, world!\"\n",
    "sub_string = original_string[7:12]\n",
    "print(sub_string)"
   ]
  },
  {
   "cell_type": "code",
   "execution_count": 29,
   "id": "154bc97a-e5bc-46c7-bd73-1fc11c75213f",
   "metadata": {},
   "outputs": [],
   "source": [
    "###  Create a variable named \"is_student\" and assign it a boolean value indicating whether you are currently student or not"
   ]
  },
  {
   "cell_type": "code",
   "execution_count": 33,
   "id": "4c6a4321-6986-4c03-b6ed-bbfee554a76d",
   "metadata": {},
   "outputs": [],
   "source": [
    "is_student = True\n",
    "is_student = False"
   ]
  }
 ],
 "metadata": {
  "kernelspec": {
   "display_name": "Python 3 (ipykernel)",
   "language": "python",
   "name": "python3"
  },
  "language_info": {
   "codemirror_mode": {
    "name": "ipython",
    "version": 3
   },
   "file_extension": ".py",
   "mimetype": "text/x-python",
   "name": "python",
   "nbconvert_exporter": "python",
   "pygments_lexer": "ipython3",
   "version": "3.10.8"
  }
 },
 "nbformat": 4,
 "nbformat_minor": 5
}
